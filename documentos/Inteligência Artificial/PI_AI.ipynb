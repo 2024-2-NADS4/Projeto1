{
  "nbformat": 4,
  "nbformat_minor": 0,
  "metadata": {
    "colab": {
      "provenance": []
    },
    "kernelspec": {
      "name": "python3",
      "display_name": "Python 3"
    },
    "language_info": {
      "name": "python"
    }
  },
  "cells": [
    {
      "cell_type": "code",
      "source": [
        "pip install pandas"
      ],
      "metadata": {
        "id": "mbz4U3qJBPJF"
      },
      "execution_count": null,
      "outputs": []
    },
    {
      "cell_type": "code",
      "source": [
        "pip install prophet"
      ],
      "metadata": {
        "id": "8JhqU1CnBP6r"
      },
      "execution_count": null,
      "outputs": []
    },
    {
      "cell_type": "code",
      "source": [
        "import pandas as pd\n",
        "import matplotlib.pyplot as plt\n",
        "import seaborn as sns\n",
        "from flask import Flask, request\n",
        "import threading\n",
        "import time\n",
        "from prophet import Prophet\n"
      ],
      "metadata": {
        "id": "6__ePtBbBWHz"
      },
      "execution_count": null,
      "outputs": []
    },
    {
      "cell_type": "code",
      "execution_count": null,
      "metadata": {
        "id": "VcaeAc0gA1sJ"
      },
      "outputs": [],
      "source": [
        "\n",
        "app = Flask(__name__)\n",
        "\n",
        "@app.route('/run', methods=['POST'])\n",
        "def run_code():\n",
        "    # Carregar a base de dados\n",
        "    data = pd.read_csv(\"large_phishing_data_with_email.csv\")\n",
        "\n",
        "    # Preprocessamento: Convertendo 'Caiu no Phishing' e 'Reportou' para valores binários\n",
        "    data['Caiu no Phishing'] = data['Caiu no Phishing'].apply(lambda x: 1 if x == 'Sim' else 0)\n",
        "    data['Reportou'] = data['Reportou'].apply(lambda x: 1 if x == 'Sim' else 0)\n",
        "\n",
        "    # Agrupando dados para contar incidentes de phishing e reportes por empresa\n",
        "    phishing_counts = data.groupby('Nome da Empresa')['Caiu no Phishing'].sum().reset_index()\n",
        "    report_counts = data.groupby('Nome da Empresa')['Reportou'].sum().reset_index()\n",
        "\n",
        "    # Configuração do estilo dos gráficos\n",
        "    sns.set(style=\"whitegrid\")\n",
        "\n",
        "    # Gráfico de Incidentes de Phishing por Empresa\n",
        "    plt.figure(figsize=(12, 6))\n",
        "    sns.barplot(x=\"Caiu no Phishing\", y=\"Nome da Empresa\", data=phishing_counts.sort_values(by=\"Caiu no Phishing\", ascending=False))\n",
        "    plt.title(\"Número de Incidentes de Phishing por Empresa\")\n",
        "    plt.xlabel(\"Número de Incidentes de Phishing\")\n",
        "    plt.ylabel(\"Nome da Empresa\")\n",
        "    plt.show()\n",
        "\n",
        "    # Gráfico de Reportes de Phishing por Empresa\n",
        "    plt.figure(figsize=(12, 6))\n",
        "    sns.barplot(x=\"Reportou\", y=\"Nome da Empresa\", data=report_counts.sort_values(by=\"Reportou\", ascending=False))\n",
        "    plt.title(\"Número de Reportes de Phishing por Empresa\")\n",
        "    plt.xlabel(\"Número de Reportes de Phishing\")\n",
        "    plt.ylabel(\"Nome da Empresa\")\n",
        "    plt.show()\n",
        "\n",
        "# Configurar o servidor Flask em uma thread separada\n",
        "def run_app():\n",
        "    app.run(port=8000)\n",
        "\n",
        "thread = threading.Thread(target=run_app)\n",
        "thread.start()\n"
      ]
    },
    {
      "cell_type": "code",
      "source": [
        "app = Flask(__name__)\n",
        "\n",
        "@app.route('/run', methods=['POST'])\n",
        "def run_code():\n",
        "    # Carregar a base de dados\n",
        "    data = pd.read_csv(\"large_phishing_data_with_email.csv\")\n",
        "\n",
        "    # Pré-processamento: Filtrando apenas os incidentes de phishing\n",
        "    data['Data'] = pd.to_datetime(data['Data'])  # Garantindo que a coluna \"Data\" seja datetime\n",
        "    phishing_data = data[data['Caiu no Phishing'] == \"Sim\"]\n",
        "\n",
        "    # Contagem de incidentes de phishing por data\n",
        "    daily_phishing = phishing_data.groupby('Data').size().reset_index(name='Incidentes')\n",
        "\n",
        "    # Renomeando as colunas para o Prophet\n",
        "    daily_phishing = daily_phishing.rename(columns={'Data': 'ds', 'Incidentes': 'y'})\n",
        "\n",
        "    # Instanciando e treinando o modelo Prophet\n",
        "    model = Prophet(yearly_seasonality=True, daily_seasonality=False)\n",
        "    model.fit(daily_phishing)\n",
        "\n",
        "    # Projeção para os próximos anos (ex.: 3 anos)\n",
        "    future = model.make_future_dataframe(periods=3 * 365)  # 3 anos em dias\n",
        "    forecast = model.predict(future)\n",
        "\n",
        "    # Visualização das previsões\n",
        "    plt.figure(figsize=(10, 6))\n",
        "    model.plot(forecast)\n",
        "    plt.title(\"Projeção de Incidentes de Phishing para os Próximos Anos\")\n",
        "    plt.xlabel(\"Data\")\n",
        "    plt.ylabel(\"Número de Incidentes de Phishing\")\n",
        "    plt.show()\n",
        "\n",
        "    # Visualização de componentes da previsão (tendência e sazonalidade)\n",
        "    plt.figure(figsize=(10, 6))\n",
        "    model.plot_components(forecast)\n",
        "    plt.show()\n",
        "\n",
        "# Configurar o servidor Flask em uma thread separada\n",
        "def run_app():\n",
        "    app.run(port=8000)\n",
        "\n",
        "thread = threading.Thread(target=run_app)\n",
        "thread.start()\n"
      ],
      "metadata": {
        "id": "mJxe13wtB3gD"
      },
      "execution_count": null,
      "outputs": []
    },
    {
      "cell_type": "code",
      "source": [],
      "metadata": {
        "id": "GmYVsK3FKz_y"
      },
      "execution_count": null,
      "outputs": []
    }
  ]
}